{
 "cells": [
  {
   "cell_type": "markdown",
   "metadata": {},
   "source": [
    "# Regresión lineal univariable: Ejercicios\n",
    "## Ejercicio 1: ¿Cómo evaluar modelos de machine learning?\n",
    "**Evaluar** el modelo de regresión lineal obtenido en la EPD 2 para predecir los beneficios de un restaurante según la población de la ciudad. Use diferentes métodos de evaluación y compare los resultados."
   ]
  },
  {
   "cell_type": "markdown",
   "metadata": {},
   "source": [
    "1) Cargar los datos de entrada almacenados en el fichero ex1data1.txt y visualizar las dimensiones de la matriz de atributos, del vector clase y las primeras 5 filas de los aributos junto a su clase"
   ]
  },
  {
   "cell_type": "code",
   "execution_count": 8,
   "metadata": {
    "scrolled": true
   },
   "outputs": [
    {
     "name": "stdout",
     "output_type": "stream",
     "text": [
      "El tamaño de X es: 47x2\n",
      "La longitud del vector y es: 47\n",
      "Las 5 primeras filas de la matriz de datos [atributos|clase] es: \n",
      "2104 3 | 399900 €\n",
      "1600 3 | 329900 €\n",
      "2400 3 | 369000 €\n",
      "1416 2 | 232000 €\n",
      "3000 4 | 539900 €\n"
     ]
    }
   ],
   "source": [
    "data = load('ex1data2.txt');\n",
    "X = data(:, 1:2); y = data(:, 3);\n",
    "[m n]=size(X);\n",
    "fprintf(\"El tamaño de X es: %dx%d\\n\", m,n);\n",
    "fprintf(\"La longitud del vector y es: %d\\n\", length(y));\n",
    "fprintf(\"Las 5 primeras filas de la matriz de datos [atributos|clase] es: \\n\");\n",
    "for i=1:5\n",
    "    fprintf(\"%d %d | %d €\\n\",X(i,:),y(i,:));\n",
    "end"
   ]
  },
  {
   "cell_type": "markdown",
   "metadata": {},
   "source": [
    "2) Visualizar en una gráfica los datos"
   ]
  },
  {
   "cell_type": "code",
   "execution_count": 10,
   "metadata": {
    "scrolled": false
   },
   "outputs": [
    {
     "data": {
      "image/png": "[encoded data removed]",
      "text/plain": [
       "<IPython.core.display.Image object>"
      ]
     },
     "metadata": {},
     "output_type": "display_data"
    }
   ],
   "source": [
    "figure(); % open a new figure window\n",
    "plot(X(:,1), y, 'rx', 'MarkerSize', 4);\n",
    "ylabel('Precio de la casa');\n",
    "xlabel('Metros de la casa');"
   ]
  },
  {
   "cell_type": "markdown",
   "metadata": {},
   "source": [
    "2) El objetivo de la regresión lineal es minimizar el coste de la función:\n",
    "\\begin{equation}\n",
    "J(\\theta_0,\\theta_1)=\\frac{1}{2 \\cdot m}\\sum_{i=1}^{m} (h_{\\theta}(x^i)-y^i)^2\n",
    "\\end{equation}\n",
    "\n",
    "Implementar la función computeCost(X,y,theta) de manera que devuelva el valor del coste. La matriz X es la matriz formada por la población de cada ciudad e y es el vector formado por los beneficios del establecimiento de cada ciudad. Para facilitar las operaciones vectorizadas, añada una columna con todos sus elementos a 1 a la matriz X como primera columna, de esta manera se podrá calcular la hipótesis h que viene dada por el modelo lineal:\n",
    "\n",
    "\\begin{equation}\n",
    "h_{\\theta}(x)=\\theta_0 + \\theta_1 \\cdot x \\quad \\mbox{ ó  } \\quad h_{\\theta}(x)=\\theta^T \\cdot x\n",
    "\\end{equation}"
   ]
  },
  {
   "cell_type": "code",
   "execution_count": 11,
   "metadata": {},
   "outputs": [],
   "source": [
    "# FUNCTION: computeCost\n",
    "function J = computeCost(X, y, theta)\n",
    "%COMPUTECOST Compute cost for linear regression\n",
    "%J = COMPUTECOST(X, y, theta) computes the cost of using theta as the\n",
    "%parameter for linear regression to fit the data points in X and y\n",
    "\n",
    "% Initialize some useful values\n",
    "m = length(y); % number of training examples\n",
    "\n",
    "% You need to return the following variables correctly \n",
    "J = 0;\n",
    "\n",
    "% ====================== YOUR CODE HERE ======================\n",
    "% Instructions: Compute the cost of a particular choice of theta \n",
    "%                    You should set J to the cost.\n",
    "\n",
    "J = (1/(2*m)) * sum((X * theta - y).^2);\n",
    "\n",
    "% =========================================================================\n",
    "\n",
    "end"
   ]
  },
  {
   "cell_type": "markdown",
   "metadata": {},
   "source": [
    "Una vez completado el código de la función computeCost, ejecutar la función usando un vector de theta inicializados a cero y comprobar que sale la salida esperada por pantalla. Recordar que hay que añadir una columna de 1's a la matriz de atributos."
   ]
  },
  {
   "cell_type": "code",
   "execution_count": 15,
   "metadata": {
    "scrolled": true
   },
   "outputs": [
    {
     "name": "stdout",
     "output_type": "stream",
     "text": [
      "J =  65591548106.45744\n"
     ]
    }
   ],
   "source": [
    "X = [ones(m, 1:2), data(:,1)]; % Add a column of ones to x\n",
    "theta = zeros(2,1); % initialize fitting parameters\n",
    "\n",
    "% compute and display initial cost\n",
    "J=computeCost(X, y, theta)"
   ]
  },
  {
   "cell_type": "markdown",
   "metadata": {},
   "source": [
    "## Expected Output: \n",
    "### <center> J=32.07 </center>\n"
   ]
  },
  {
   "cell_type": "markdown",
   "metadata": {},
   "source": [
    "3) Implementar el método de descenso del gradiente. La función recibirá como parámetro, además de los datos X e y, los parámetros theta, alpha y el número de iteraciones. Estos dos últimos se pueden inicializar a 0,01 y 1500 respectivamente. La función deberá devolver los parámetros theta finales y un histórico con el coste en cada iteración. Mostrar por pantalla los valores de theta."
   ]
  },
  {
   "cell_type": "code",
   "execution_count": 16,
   "metadata": {},
   "outputs": [],
   "source": [
    "# FUNCTION: gradientDescent\n",
    "function [theta, J_history] = gradientDescent(X, y, theta, alpha, num_iters)\n",
    "%GRADIENTDESCENT Performs gradient descent to learn theta\n",
    "%   theta = GRADIENTDESENT(X, y, theta, alpha, num_iters) updates theta by \n",
    "%   taking num_iters gradient steps with learning rate alpha\n",
    "\n",
    "% Initialize some useful values\n",
    "m = length(y); % number of training examples\n",
    "J_history = zeros(num_iters, 1);\n",
    "\n",
    "for iter = 1:num_iters\n",
    "\n",
    "    % ====================== YOUR CODE HERE ======================\n",
    "    % Instructions: Perform a single gradient step on the parameter vector\n",
    "    %               theta. \n",
    "    %\n",
    "    % Hint: While debugging, it can be useful to print out the values\n",
    "    %       of the cost function (computeCost) and gradient here.\n",
    "    %\n",
    "\n",
    "    theta = theta - alpha* (1/m) * (X' * (X * theta - y));\n",
    "   \n",
    "    % ============================================================\n",
    "\n",
    "    % Save the cost J in every iteration    \n",
    "    J_history(iter) = computeCost(X, y, theta);\n",
    "\n",
    "end\n",
    "\n",
    "end"
   ]
  },
  {
   "cell_type": "markdown",
   "metadata": {},
   "source": [
    "## Evaluación usando Holdout: Programa principal\n",
    "\n",
    "Una vez tenemos todas las funciones necesarias, vamos a implementar la función principal en la que se llamarán a las diferentes funciones. El programa principal consta de las siguientes partes:\n",
    "\n",
    "        1) Dividir el dataset en 70% para entrenamiento y 30% para test usando la función holdout suministrada en el material\n",
    "        2) Inicializar alfa a 0,01 y el número de iteraciones a 1500\n",
    "        3) Obtener el modelo. Para ello, ejecutar el descenso del gradiente llamando a la función correspondiente con el conjunto de entrenamiento\n",
    "        4) Una vez obtenido el modelo, visualizar la fución de coste J a través de las iteraciones\n",
    "        5) Visualizar el óptimo encontrado por el método de descenso del gradiente\n",
    "        6) Visualizar el modelo obtenido\n",
    "        7) Predecir el conjunto de test y calcular el error\n",
    "\n"
   ]
  },
  {
   "cell_type": "code",
   "execution_count": 8,
   "metadata": {},
   "outputs": [
    {
     "name": "stdout",
     "output_type": "stream",
     "text": [
      "m =  97\n"
     ]
    }
   ],
   "source": [
    "m"
   ]
  },
  {
   "cell_type": "code",
   "execution_count": 24,
   "metadata": {},
   "outputs": [
    {
     "data": {
      "image/png": "[encoded data removed]",
      "text/plain": [
       "<IPython.core.display.Image object>"
      ]
     },
     "metadata": {},
     "output_type": "display_data"
    }
   ],
   "source": [
    "% Indicar el porcentaje de división en la variable percent, el valor 0,7 indica 70% para entrenameinto y el resto para test\n",
    "percent=0.7;\n",
    "%m es la longitud del vector y\n",
    "m= length(y);\n",
    "%Usar función holdout para obtener el conjunto de entrenamiento y el conjunto de test\n",
    "[X_train,y_train, X_test, y_test] = holdout(X,y,m,percent);\n",
    "\n",
    "%Inicializar alfa y el número de iteraciones\n",
    "iterations = 1500;\n",
    "alpha = 0.01;\n",
    "\n",
    "%Obtener el modelo para el conjunto de entrenamiento X_train, y_train\n",
    "\n",
    "%theta = zeros(2,1); % initialize fitting parameters\n",
    "\n",
    "[theta, J_history] = gradientDescent(X_train, y_train, theta, alpha, iterations);\n",
    "\n",
    "%Dibujar la función de coste\n",
    "figure();%Crear figura\n",
    "\n",
    "%Dibujo la función de coste correspondiente a J_history\n",
    "plot(1:length(J_history), J_history, '-b', 'LineWidth', 2);\n",
    "xlabel('Number of iterations');%Título del eje X\n",
    "ylabel('Cost J');%Título del eje Y"
   ]
  },
  {
   "cell_type": "markdown",
   "metadata": {},
   "source": [
    "## Responder las siguientes cuestiones: \n",
    "** ¿Ha encontrado el óptimo el descenso del gradiente? ¿Por qué? **"
   ]
  },
  {
   "cell_type": "markdown",
   "metadata": {},
   "source": [
    "5) Visualizar el óptimo encontrado usando la función Visualization.m suministrada en el material."
   ]
  },
  {
   "cell_type": "code",
   "execution_count": 25,
   "metadata": {
    "scrolled": false
   },
   "outputs": [
    {
     "data": {
      "image/png": "[encoded data removed]",
      "text/plain": [
       "<IPython.core.display.Image object>"
      ]
     },
     "metadata": {},
     "output_type": "display_data"
    }
   ],
   "source": [
    "%Dibujar curvas de nivel y el óptimo encontrado para el modelo theta\n",
    "Visualization(X,y,theta);"
   ]
  },
  {
   "cell_type": "markdown",
   "metadata": {},
   "source": [
    "6) Visualizar gráficamente el modelo obtenido."
   ]
  },
  {
   "cell_type": "code",
   "execution_count": 26,
   "metadata": {
    "scrolled": false
   },
   "outputs": [
    {
     "data": {
      "image/png": "[encoded data removed]",
      "text/plain": [
       "<IPython.core.display.Image object>"
      ]
     },
     "metadata": {},
     "output_type": "display_data"
    }
   ],
   "source": [
    "plot(X(:,2), y, 'rx', 'MarkerSize', 4);%Dibujar matriz X\n",
    "hold on; % % Mantiene la figura anterior para dibujar encima\n",
    "plot(X(:,2), X*theta, '-')%Dibuja modelo h=X * theta\n",
    "legend('Training data', 'Linear regression')%Inserta leyenda en la gráfica"
   ]
  },
  {
   "cell_type": "markdown",
   "metadata": {},
   "source": [
    "7) Predecir el conjunto de test usando el modelo aprendido con el conjunto de training y mostrar el error"
   ]
  },
  {
   "cell_type": "code",
   "execution_count": 47,
   "metadata": {},
   "outputs": [
    {
     "name": "stdout",
     "output_type": "stream",
     "text": [
      "El error absoluto medio de mi predicción es: 2.48610 \n"
     ]
    }
   ],
   "source": [
    "% Predecir el conjunto de test X_test usando el modelo obtenido theta\n",
    "pre = X_test * theta;\n",
    "%m es el número de elementos del vector y_test\n",
    "m = length(y_test);\n",
    "%Calcular el error cabsoluto medio cometido en la predicción comparando con los valores reales y_test\n",
    "error = (1/m) * sum(abs(pre-y_test));\n",
    "%Imprimir error por pantalla\n",
    "fprintf(\"El error absoluto medio de mi predicción es: %0.5f \\n\",error);"
   ]
  },
  {
   "cell_type": "code",
   "execution_count": 45,
   "metadata": {},
   "outputs": [
    {
     "name": "stdout",
     "output_type": "stream",
     "text": [
      "La prediccion de 35000 habitantes es: 42209.54\n"
     ]
    }
   ],
   "source": [
    "pre = [1, 35000];\n",
    "    fprintf(\"La prediccion de 35000 habitantes es: %.02f\\n\",pre * theta);"
   ]
  },
  {
   "cell_type": "markdown",
   "metadata": {},
   "source": [
    "## Evaluación usando Cross-validation: Programa principal\n",
    "\n",
    "La evaluación mediante validación cruzada consiste en la división del conjunto de datos en K bolsas, haciendo que cada una de estas bolsas sea el conjunto de test mientras que las K-1 restantes sean el conjunto de entrenamiento. De esta forma, se calculan K modelos y el error que cada uno de ellos comete al predecir el conjunto de test correspondiente. La media de los K errores es el error que determina si la regresión lineal es un buen método de aprendizaje y la predicción de una instancia desconocida se estimaría con la media de la predicción obtenida por cada modelo. \n",
    "\n",
    "Ahora vamos a implementar la función principal en la que se llamarán a las diferentes funciones. El programa principal consta de las siguientes partes:\n",
    "\n",
    "1) **Inicialización**:  Hay que inicializar el número de bolsas a usar (parámetro K). En este caso, inicializar al valor 5. Inicializar alfa a 0,01 y el   número de iteraciones a 1500. Inicializar el error a un vector de ceros. Este vector error almacenará cada uno de los errores obtenido por cada           modelo.\n",
    "\n",
    "2) **Construcción de conjuntos entrenamiento y test**. Para ello, debe seguir los siguientes pasos:       \n",
    "        \n",
    "        2.1) Usar la función cv.m suministrada en el material para construir los índices que nos ayudarán a crear las diferentes bolsas en las que se                          dividirá el conjunto de datos. Esta función recibe el número de filas que tiene la matriz de datos y el número de bolsas en el que queremos                    dividir la matriz y devuelve un vector de m elementos cuyos valores están en el conjunto {1,2,3,...,K}. Por ejemplo: Si la matriz tiene 10 filas                  y queremos dividir en 3 bolsas una posible salida de la función cv(10,3) sería: 2 3 1 1 3 3 2 3 1 2. La interpretación de ese vector es: Las                      instancias 3, 4 y 9 forman la bolsa 1, las instancias 1,7 y 10 forman la bolsa 2, y las instancias 2, 5, 6 y 8 formarán la bolsa 3. \n",
    "        \n",
    "        2.2) Crear los diferentes conjuntos de tests y conjuntos de training. Para crear los diferentes conjuntos de test y training use el operador lógico                    ==. \n",
    "        \n",
    "              Ejemplo: Si tenemos el vector de índices que devuelve la función cv, y ejecutas en Octave la sentencia: \n",
    "                        test = (indices == 2);\n",
    "                        \n",
    "              La variable test será un vector de 0´s y 1´s, donde si en la posición 3 aparece un 1 significa que la instancia 3 forma parte del conjunto \n",
    "              de test que corresponde a la bolsa 2. Por tanto, si hacemos: \n",
    "                         \n",
    "                         X_test = X(test,:);\n",
    "            \n",
    "             La variable X_test será una matriz formada por las filas de la matriz X correspondientes a las posiciones donde hay valores 1's \n",
    "             en el vector test. \n",
    "            \n",
    "3) **Modelo**: Una vez creado los conjuntos, obtener el modelo y el error para cada uno de ellos. Para obtener el modelo, ejecutar el descenso del gradiente llamando a la función correspondiente con el conjunto de entrenamiento correspondiente.\n",
    "\n",
    "4) **Visualización**:\n",
    "        \n",
    "        4.1) Visualizar la fución de coste J a través de las iteraciones para cada modelo\n",
    "        \n",
    "        4.2) Visualizar el óptimo encontrado por el método de descenso del gradiente para cada modelo\n",
    "        \n",
    "        4.3) Visualizar cada modelo obtenido       \n",
    "\n"
   ]
  },
  {
   "cell_type": "code",
   "execution_count": 52,
   "metadata": {
    "scrolled": false
   },
   "outputs": [
    {
     "name": "stdout",
     "output_type": "stream",
     "text": [
      "error =\n",
      "\n",
      "   0   0   0   0   0\n",
      "   0   0   0   0   0\n",
      "   0   0   0   0   0\n",
      "   0   0   0   0   0\n",
      "   0   0   0   0   0\n",
      "\n",
      "parse error:\n",
      "\n",
      "  syntax error\n",
      "\n",
      ">>>       test = \n",
      "                ^\n",
      "\n",
      "\"perl\" no se reconoce como un comando interno o externo,\n",
      "programa o archivo por lotes ejecutable.\n",
      "warning: print_usage: Texinfo formatting filter exited abnormally\n",
      "warning: called from\n",
      "    print_usage at line 74 column 5\n",
      "    test at line 134 column 5\n",
      "warning: print_usage: raw Texinfo source of help text follows...\n",
      "error: Invalid call to test.  Correct usage is:\n",
      "\n",
      "\n",
      "\n",
      "Additional help for built-in functions and operators is\n",
      "available in the online version of the manual.  Use the command\n",
      "'doc <topic>' to search the manual index.\n",
      "\n",
      "Help and information about Octave is also available on the WWW\n",
      "at https://www.octave.org and via the help@octave.org\n",
      "mailing list.\n",
      "parse error:\n",
      "\n",
      "  syntax error\n",
      "\n",
      ">>>       X_train = \n",
      "                   ^\n",
      "\n",
      "parse error:\n",
      "\n",
      "  syntax error\n",
      "\n",
      ">>>       y_train = \n",
      "                   ^\n",
      "\n",
      "parse error:\n",
      "\n",
      "  syntax error\n",
      "\n",
      ">>>      theta_fold(:,i) = \n",
      "                          ^\n",
      "\n",
      "parse error:\n",
      "\n",
      "  syntax error\n",
      "\n",
      ">>>      J_history_fold(:,i) = \n",
      "                              ^\n",
      "\n",
      "Theta encontrado por el descenso del gradiente en la iteración i: error: 'theta_fold' undefined near line 1 column 25\n",
      "parse error:\n",
      "\n",
      "  syntax error\n",
      "\n",
      ">>>     X_test = \n",
      "                ^\n",
      "\n",
      "parse error:\n",
      "\n",
      "  syntax error\n",
      "\n",
      ">>>     y_test = \n",
      "                ^\n",
      "\n",
      "parse error:\n",
      "\n",
      "  syntax error\n",
      "\n",
      ">>>     pre = \n",
      "             ^\n",
      "\n",
      "parse error:\n",
      "\n",
      "  syntax error\n",
      "\n",
      ">>>     error(i) = \n",
      "                  ^\n",
      "\n",
      "parse error:\n",
      "\n",
      "  syntax error\n",
      "\n",
      ">>> end\n",
      "      ^\n",
      "\n",
      "parse error:\n",
      "\n",
      "  syntax error\n",
      "\n",
      ">>> fprintf(['Error (usando descenso del gradiente):\\n $%.2f\\n'],         );\n",
      "                                                                          ^\n",
      "\n"
     ]
    }
   ],
   "source": [
    "%Elegimos el número de particiones para cross-validation \n",
    "K = 5;\n",
    "% Inicializamos vector de errores a 0\n",
    "error = zeros(K)\n",
    "%Inicializamos alfa y el número de iteraciones\n",
    "iterations = 15000;\n",
    "alpha = 0.01;\n",
    "\n",
    "%Hago partición para crossvalidation\n",
    "indices = cv(X,K);\n",
    "%Para cada bolsa desde 1 hasta K\n",
    "for i=1:K\n",
    "    % =================== Creación de conjunto de entrenamiento===================\n",
    "    %Conjunto de índices que indican las filas de la matriz X que formarán parte del conjunto de test y del conjunto de training \n",
    "      test = \n",
    "      train = ~test;\n",
    "    \n",
    "    %Conjunto de entrenamiento para cada partición. La variable X_train es la matriz de atributos correspondiente al entrenamiento, y la \n",
    "    %variable y_train es el vector de la clase correspondiente al conjunto X_train \n",
    "      X_train = \n",
    "      y_train = \n",
    "     \n",
    "    % =================== Obtención del modelo===================\n",
    "    %Obtener el modelo para el conjuto de entrenamiento X_train, y_train creado anteriormente\n",
    "    \n",
    "    \n",
    "    %Almcenamos el vector theta y el vector J_history para la iteración i\n",
    "     theta_fold(:,i) = \n",
    "     J_history_fold(:,i) = \n",
    "       \n",
    "\n",
    "    % Print theta_fold en pantalla\n",
    "    fprintf('Theta encontrado por el descenso del gradiente en la iteración i: ');\n",
    "    fprintf('%f %f \\n', theta_fold(:,i));\n",
    "   \n",
    "    % =================== Prediccion del conjunto de test ===================\n",
    "    %Conjunto de test para cada partición. La variable X_test es la matriz de atributos correspondiente al conjunto de test, y la \n",
    "    %variable y_test es el vector de la clase correspondiente al conjunto X_test \n",
    "    X_test = \n",
    "    y_test = \n",
    "        \n",
    "    % Predecir el conjunto de test X_test usando el modelo theta_fold(:,i)\n",
    "    pre = \n",
    "    \n",
    "    %Calcular el error absoluto medio cometido en la predicción comparando con los valores reales y_test\n",
    "    m = length(y_test);\n",
    "    error(i) = \n",
    "    \n",
    "end\n",
    "%Print el error medio de los K modelos en pantalla\n",
    "fprintf(['Error (usando descenso del gradiente):\\n $%.2f\\n'],         );"
   ]
  },
  {
   "cell_type": "markdown",
   "metadata": {},
   "source": [
    "4.1) Visualizar la fución de coste J a través de las iteraciones para cada modelo"
   ]
  },
  {
   "cell_type": "code",
   "execution_count": null,
   "metadata": {},
   "outputs": [],
   "source": [
    "%Para cada modelo desde 1 hasta K\n",
    "for i=\n",
    "    figure();%Crear una figura\n",
    "    %Dibujar la función de coste correspondiente a J_history_fold(:,i)\n",
    "    \n",
    "    xlabel('Number of iterations');%Título del eje X\n",
    "    ylabel('Cost J');%Título del eje Y\n",
    "end"
   ]
  },
  {
   "cell_type": "markdown",
   "metadata": {},
   "source": [
    "4.2) Visualizar el óptimo encontrado usando la función Visualization.m suministrada en el material."
   ]
  },
  {
   "cell_type": "code",
   "execution_count": null,
   "metadata": {},
   "outputs": [],
   "source": [
    "% Para cada modelo desde 1 hasta K \n",
    "for i=\n",
    "    figure(1); %Crear una figura fija\n",
    "    %Dibujar curvas de nivel y el óptimo encontrado para el modelo theta_fold(:,i)\n",
    "    \n",
    "end"
   ]
  },
  {
   "cell_type": "markdown",
   "metadata": {},
   "source": [
    "4.3) Visualizar cada modelo obtenido"
   ]
  },
  {
   "cell_type": "code",
   "execution_count": null,
   "metadata": {},
   "outputs": [],
   "source": [
    "% Para cada modelo desde 1 hasta K \n",
    "for i=\n",
    "    figure(2);%Crea una figura fija\n",
    "    %Dibuja matriz X\n",
    "    \n",
    "    hold on; % Mantiene la figura anterior para dibujar encima\n",
    "    %Dibuja modelo h=X * theta_fold(:,i)\n",
    "    \n",
    "    legend('Training data', 'Linear regression');%Inserta leyenda en la gráfica\n",
    "end"
   ]
  }
 ],
 "metadata": {
  "kernelspec": {
   "display_name": "Octave",
   "language": "octave",
   "name": "octave"
  },
  "language_info": {
   "file_extension": ".m",
   "help_links": [
    {
     "text": "GNU Octave",
     "url": "https://www.gnu.org/software/octave/support.html"
    },
    {
     "text": "Octave Kernel",
     "url": "https://github.com/Calysto/octave_kernel"
    },
    {
     "text": "MetaKernel Magics",
     "url": "https://metakernel.readthedocs.io/en/latest/source/README.html"
    }
   ],
   "mimetype": "text/x-octave",
   "name": "octave",
   "version": "5.1.0"
  }
 },
 "nbformat": 4,
 "nbformat_minor": 2
}
